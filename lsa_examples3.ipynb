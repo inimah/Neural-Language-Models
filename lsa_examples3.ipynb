{
 "cells": [
  {
   "cell_type": "code",
   "execution_count": 1,
   "metadata": {
    "collapsed": true
   },
   "outputs": [],
   "source": [
    "import numpy as np\n",
    "from math import *\n",
    "from scipy import linalg,dot\n",
    "from numpy.linalg import norm"
   ]
  },
  {
   "cell_type": "code",
   "execution_count": 2,
   "metadata": {
    "collapsed": true
   },
   "outputs": [],
   "source": [
    "from scripts.text_preprocessing import *"
   ]
  },
  {
   "cell_type": "code",
   "execution_count": 3,
   "metadata": {
    "collapsed": true
   },
   "outputs": [],
   "source": [
    "from scripts.lsa.vector_space import VectorSpace\n",
    "from scripts.lsa.tfidf import TFIDF\n",
    "from scripts.lsa.lsa import LSA"
   ]
  },
  {
   "cell_type": "code",
   "execution_count": 4,
   "metadata": {
    "collapsed": false
   },
   "outputs": [],
   "source": [
    "'''\n",
    "Original documents:\n",
    "[\"Dogs eat the same things that cats eat\", \n",
    "\"No dog is a mouse\", \"Mice eat little things\", \n",
    "\"Cats often play with rats and mice\", \n",
    "\"Cats often play, but not with other cats\"]\n",
    "'''\n",
    "tokenized_docs = readPickle('embeddings/examples_3/lsa/tokenized_docs')"
   ]
  },
  {
   "cell_type": "code",
   "execution_count": 5,
   "metadata": {
    "collapsed": false
   },
   "outputs": [
    {
     "data": {
      "text/plain": [
       "[['dogs', 'eat', 'the', 'same', 'things', 'that', 'cats', 'eat'],\n",
       " ['no', 'dog', 'is', 'a', 'mouse'],\n",
       " ['mice', 'eat', 'little', 'things'],\n",
       " ['cats', 'often', 'play', 'with', 'rats', 'and', 'mice'],\n",
       " ['cats', 'often', 'play', ',', 'but', 'not', 'with', 'other', 'cats']]"
      ]
     },
     "execution_count": 5,
     "metadata": {},
     "output_type": "execute_result"
    }
   ],
   "source": [
    "tokenized_docs"
   ]
  },
  {
   "cell_type": "code",
   "execution_count": 6,
   "metadata": {
    "collapsed": true
   },
   "outputs": [],
   "source": [
    "vocab = readPickle('embeddings/examples_3/lsa/vocab')"
   ]
  },
  {
   "cell_type": "code",
   "execution_count": 7,
   "metadata": {
    "collapsed": false
   },
   "outputs": [
    {
     "data": {
      "text/plain": [
       "{0: 'zerostart',\n",
       " 1: 'and',\n",
       " 2: 'rats',\n",
       " 3: 'often',\n",
       " 4: 'is',\n",
       " 5: 'mouse',\n",
       " 6: 'little',\n",
       " 7: 'no',\n",
       " 8: 'things',\n",
       " 9: ',',\n",
       " 10: 'same',\n",
       " 11: 'cats',\n",
       " 12: 'dogs',\n",
       " 13: 'play',\n",
       " 14: 'that',\n",
       " 15: 'but',\n",
       " 16: 'not',\n",
       " 17: 'mice',\n",
       " 18: 'with',\n",
       " 19: 'eat',\n",
       " 20: 'a',\n",
       " 21: 'dog',\n",
       " 22: 'the',\n",
       " 23: 'other',\n",
       " 24: 'EOF',\n",
       " 25: 'UNK'}"
      ]
     },
     "execution_count": 7,
     "metadata": {},
     "output_type": "execute_result"
    }
   ],
   "source": [
    "vocab"
   ]
  },
  {
   "cell_type": "code",
   "execution_count": 8,
   "metadata": {
    "collapsed": true
   },
   "outputs": [],
   "source": [
    "td_bow = readPickle('embeddings/examples_3/lsa/td_bow')"
   ]
  },
  {
   "cell_type": "code",
   "execution_count": 9,
   "metadata": {
    "collapsed": false
   },
   "outputs": [
    {
     "name": "stdout",
     "output_type": "stream",
     "text": [
      "[[0, 0, 0, 0, 0, 0, 0, 0, 1, 0, 1, 1, 1, 0, 1, 0, 0, 0, 0, 2, 0, 0, 1, 0, 0, 0], [0, 0, 0, 0, 1, 1, 0, 1, 0, 0, 0, 0, 0, 0, 0, 0, 0, 0, 0, 0, 1, 1, 0, 0, 0, 0], [0, 0, 0, 0, 0, 0, 1, 0, 1, 0, 0, 0, 0, 0, 0, 0, 0, 1, 0, 1, 0, 0, 0, 0, 0, 0], [0, 1, 1, 1, 0, 0, 0, 0, 0, 0, 0, 1, 0, 1, 0, 0, 0, 1, 1, 0, 0, 0, 0, 0, 0, 0], [0, 0, 0, 1, 0, 0, 0, 0, 0, 1, 0, 2, 0, 1, 0, 1, 1, 0, 1, 0, 0, 0, 0, 1, 0, 0]]\n"
     ]
    }
   ],
   "source": [
    "print(td_bow)"
   ]
  },
  {
   "cell_type": "code",
   "execution_count": 10,
   "metadata": {
    "collapsed": true
   },
   "outputs": [],
   "source": [
    "td_bow_sublin = readPickle('embeddings/examples_3/lsa/td_bow_sublin')"
   ]
  },
  {
   "cell_type": "code",
   "execution_count": 11,
   "metadata": {
    "collapsed": false
   },
   "outputs": [
    {
     "name": "stdout",
     "output_type": "stream",
     "text": [
      "[[0, 0, 0, 0, 0, 0, 0, 0, 1.0, 0, 1.0, 1.0, 1.0, 0, 1.0, 0, 0, 0, 0, 1.6931471805599454, 0, 0, 1.0, 0, 0, 0], [0, 0, 0, 0, 1.0, 1.0, 0, 1.0, 0, 0, 0, 0, 0, 0, 0, 0, 0, 0, 0, 0, 1.0, 1.0, 0, 0, 0, 0], [0, 0, 0, 0, 0, 0, 1.0, 0, 1.0, 0, 0, 0, 0, 0, 0, 0, 0, 1.0, 0, 1.0, 0, 0, 0, 0, 0, 0], [0, 1.0, 1.0, 1.0, 0, 0, 0, 0, 0, 0, 0, 1.0, 0, 1.0, 0, 0, 0, 1.0, 1.0, 0, 0, 0, 0, 0, 0, 0], [0, 0, 0, 1.0, 0, 0, 0, 0, 0, 1.0, 0, 1.6931471805599454, 0, 1.0, 0, 1.0, 1.0, 0, 1.0, 0, 0, 0, 0, 1.0, 0, 0]]\n"
     ]
    }
   ],
   "source": [
    "print(td_bow_sublin)"
   ]
  },
  {
   "cell_type": "code",
   "execution_count": 12,
   "metadata": {
    "collapsed": true
   },
   "outputs": [],
   "source": [
    "td_tfidf = readPickle('embeddings/examples_3/lsa/td_tfidf')"
   ]
  },
  {
   "cell_type": "code",
   "execution_count": 13,
   "metadata": {
    "collapsed": false
   },
   "outputs": [
    {
     "name": "stdout",
     "output_type": "stream",
     "text": [
      "[[ 0.          0.          0.          0.          0.          0.          0.\n",
      "   0.          0.69314718  0.          1.09861229  0.40546511  1.09861229\n",
      "   0.          1.09861229  0.          0.          0.          0.\n",
      "   1.38629436  0.          0.          1.09861229  0.          0.          0.        ]\n",
      " [ 0.          0.          0.          0.          1.09861229  1.09861229\n",
      "   0.          1.09861229  0.          0.          0.          0.          0.\n",
      "   0.          0.          0.          0.          0.          0.          0.\n",
      "   1.09861229  1.09861229  0.          0.          0.          0.        ]\n",
      " [ 0.          0.          0.          0.          0.          0.\n",
      "   1.09861229  0.          0.69314718  0.          0.          0.          0.\n",
      "   0.          0.          0.          0.          0.69314718  0.\n",
      "   0.69314718  0.          0.          0.          0.          0.          0.        ]\n",
      " [ 0.          1.09861229  1.09861229  0.69314718  0.          0.          0.\n",
      "   0.          0.          0.          0.          0.40546511  0.\n",
      "   0.69314718  0.          0.          0.          0.69314718  0.69314718\n",
      "   0.          0.          0.          0.          0.          0.          0.        ]\n",
      " [ 0.          0.          0.          0.69314718  0.          0.          0.\n",
      "   0.          0.          1.09861229  0.          0.81093022  0.\n",
      "   0.69314718  0.          1.09861229  1.09861229  0.          0.69314718\n",
      "   0.          0.          0.          0.          1.09861229  0.          0.        ]]\n"
     ]
    }
   ],
   "source": [
    "print(td_tfidf)"
   ]
  },
  {
   "cell_type": "code",
   "execution_count": 14,
   "metadata": {
    "collapsed": false
   },
   "outputs": [
    {
     "name": "stdout",
     "output_type": "stream",
     "text": [
      "lsa_bow_u.shape: (26, 26) \n",
      "\n"
     ]
    }
   ],
   "source": [
    "lsa_bow_u= readPickle('embeddings/examples_3/lsa/lsa_bow_u')\n",
    "print(\"lsa_bow_u.shape: %s \\n\" %str(lsa_bow_u.shape))\n",
    "#print(lsa_bow_u)"
   ]
  },
  {
   "cell_type": "code",
   "execution_count": 15,
   "metadata": {
    "collapsed": false
   },
   "outputs": [
    {
     "name": "stdout",
     "output_type": "stream",
     "text": [
      "lsa_bow_sigma.shape: (5,) \n",
      "\n",
      "[ 3.9465473   3.17222503  2.23606798  2.03926436  1.4843024 ]\n"
     ]
    }
   ],
   "source": [
    "lsa_bow_sigma= readPickle('embeddings/examples_3/lsa/lsa_bow_sigma')\n",
    "print(\"lsa_bow_sigma.shape: %s \\n\" %str(lsa_bow_sigma.shape))\n",
    "print(lsa_bow_sigma)"
   ]
  },
  {
   "cell_type": "code",
   "execution_count": 16,
   "metadata": {
    "collapsed": false,
    "scrolled": true
   },
   "outputs": [
    {
     "name": "stdout",
     "output_type": "stream",
     "text": [
      "bow_v.shape: (5, 5) \n",
      "\n",
      "[[ -4.36291561e-01   8.10487196e-01  -0.00000000e+00  -2.12629270e-01\n",
      "    3.27946600e-01]\n",
      " [  1.11022302e-16   0.00000000e+00  -1.00000000e+00  -5.55111512e-16\n",
      "   -3.33066907e-16]\n",
      " [ -1.56003695e-01   3.59555393e-01  -2.22044605e-16   4.82523826e-01\n",
      "   -7.83296575e-01]\n",
      " [ -4.96904838e-01  -2.51473057e-01  -6.66133815e-16   7.14415671e-01\n",
      "    4.23623810e-01]\n",
      " [ -7.33756161e-01  -3.88061498e-01   3.33066907e-16  -4.59967173e-01\n",
      "   -3.15341673e-01]]\n"
     ]
    }
   ],
   "source": [
    "lsa_bow_vt= readPickle('embeddings/examples_3/lsa/lsa_bow_vt')\n",
    "bow_v = np.transpose(lsa_bow_vt)\n",
    "print(\"bow_v.shape: %s \\n\" %str(bow_v.shape))\n",
    "print(bow_v)"
   ]
  },
  {
   "cell_type": "code",
   "execution_count": 17,
   "metadata": {
    "collapsed": false
   },
   "outputs": [
    {
     "name": "stdout",
     "output_type": "stream",
     "text": [
      "svd_bow_t.shape: (5, 26) \n",
      "\n"
     ]
    }
   ],
   "source": [
    "svd_bow= readPickle('embeddings/examples_3/lsa/svd_bow')\n",
    "svd_bow_t = np.transpose(svd_bow)\n",
    "print(\"svd_bow_t.shape: %s \\n\" %str(svd_bow_t.shape))\n",
    "#print(svd_bow_t)"
   ]
  },
  {
   "cell_type": "code",
   "execution_count": 18,
   "metadata": {
    "collapsed": false,
    "scrolled": true
   },
   "outputs": [
    {
     "name": "stdout",
     "output_type": "stream",
     "text": [
      "wv_bow.shape: (26, 5) \n",
      "\n"
     ]
    }
   ],
   "source": [
    "# words similarity w.r.t document context\n",
    "# column is principal component or dimension (context) in which we can measure similarity of words in context (rows of matrix)\n",
    "lsa_bow_diag_sigma = readPickle('embeddings/examples_3/lsa/lsa_bow_diag_sigma')\n",
    "wv_bow = dot(lsa_bow_u, lsa_bow_diag_sigma)\n",
    "print(\"wv_bow.shape: %s \\n\" %str(wv_bow.shape))\n",
    "#print(wv_bow)"
   ]
  },
  {
   "cell_type": "code",
   "execution_count": 19,
   "metadata": {
    "collapsed": false
   },
   "outputs": [
    {
     "data": {
      "text/plain": [
       "[array([ -4.96904838e-01,  -2.51473057e-01,  -9.89653958e-16,\n",
       "          7.14415671e-01,   4.23623810e-01]),\n",
       " array([ -1.48118066e-16,  -1.33023088e-16,  -1.00000000e+00,\n",
       "         -7.52707810e-16,  -1.72757327e-16]),\n",
       " array([ -2.40070872e+00,  -2.17108857e-01,   2.01330109e-16,\n",
       "         -4.18147945e-01,   1.20887065e-01]),\n",
       " array([ -4.36291561e-01,   8.10487196e-01,   5.44763182e-17,\n",
       "         -2.12629270e-01,   3.27946600e-01]),\n",
       " array([ -1.23066100e+00,  -6.39534555e-01,  -4.21400084e-16,\n",
       "          2.54448498e-01,   1.08282138e-01]),\n",
       " array([ -6.52908533e-01,   1.08082336e-01,  -1.22019295e-15,\n",
       "          1.19693950e+00,  -3.59672764e-01]),\n",
       " array([ -1.02858682e+00,   1.98052978e+00,  -1.21586355e-16,\n",
       "          5.72652855e-02,  -1.27403375e-01]),\n",
       " array([ -1.48118066e-16,  -1.33023088e-16,  -1.00000000e+00,\n",
       "         -7.52707810e-16,  -1.72757327e-16])]"
      ]
     },
     "execution_count": 19,
     "metadata": {},
     "output_type": "execute_result"
    }
   ],
   "source": [
    "'''\n",
    "words: \n",
    "2: 'rats'\n",
    "5: 'mouse',\n",
    "11: 'cats',\n",
    "12: 'dogs',\n",
    "13: 'play',\n",
    "17: 'mice',\n",
    "19: 'eat',\n",
    "21: 'dog',\n",
    "'''\n",
    "  \n",
    "w=[2,5,11,12,13,17,19,21]\n",
    "wv_bow_ = []\n",
    "for i in range(len(wv_bow)):\n",
    "    if i in w:\n",
    "        wv_bow_.append(wv_bow[i])\n",
    "wv_bow_"
   ]
  },
  {
   "cell_type": "code",
   "execution_count": 20,
   "metadata": {
    "collapsed": false
   },
   "outputs": [
    {
     "name": "stdout",
     "output_type": "stream",
     "text": [
      "[[ -1.72184528e+00   2.57104777e+00   0.00000000e+00  -4.33607293e-01\n",
      "    4.86771927e-01]\n",
      " [  4.38154768e-16   0.00000000e+00  -2.23606798e+00  -1.13201912e-15\n",
      "   -4.94372011e-16]\n",
      " [ -6.15675960e-01   1.14059062e+00  -4.96506831e-16   9.83993642e-01\n",
      "   -1.16264899e+00]\n",
      " [ -1.96105845e+00  -7.97729126e-01  -1.48952049e-15   1.45688242e+00\n",
      "    6.28785840e-01]\n",
      " [ -2.89580340e+00  -1.23101840e+00   7.44760246e-16  -9.37994662e-01\n",
      "   -4.68062403e-01]]\n"
     ]
    }
   ],
   "source": [
    "# document similarity w.r.t. grouped context (principal components)\n",
    "# column is principal component or dimension (context) in which we can measure similarity of documents in context (rows of matrix)\n",
    "lsa_bow_sigma_vt = linalg.diagsvd(lsa_bow_sigma, len(lsa_bow_sigma), len(lsa_bow_vt))\n",
    "dv_bow = dot(bow_v, lsa_bow_sigma_vt)\n",
    "print(dv_bow)"
   ]
  },
  {
   "cell_type": "code",
   "execution_count": 21,
   "metadata": {
    "collapsed": false
   },
   "outputs": [
    {
     "name": "stdout",
     "output_type": "stream",
     "text": [
      "cat and cats: -1.38777878078e-17\n",
      "pet and pets: 5.55111512313e-17\n"
     ]
    }
   ],
   "source": [
    "# word similarity as cosine distance pair\n",
    "bow_ut = np.transpose(lsa_bow_u) \n",
    "wsim_bow = dot(lsa_bow_u,bow_ut)\n",
    "# cat and cats\n",
    "print(\"cat and cats: %s\" %(wsim_bow[4,9]))\n",
    "# pet and pets\n",
    "print(\"pet and pets: %s\" %(wsim_bow[6,14]))\n"
   ]
  },
  {
   "cell_type": "code",
   "execution_count": 22,
   "metadata": {
    "collapsed": false
   },
   "outputs": [
    {
     "name": "stdout",
     "output_type": "stream",
     "text": [
      "[[  1.00000000e+00  -3.96332977e-17   1.66533454e-16   1.66533454e-16\n",
      "    1.11022302e-16]\n",
      " [ -3.96332977e-17   1.00000000e+00   1.97760352e-16   7.32908596e-17\n",
      "   -5.41672572e-17]\n",
      " [  1.66533454e-16   1.97760352e-16   1.00000000e+00   0.00000000e+00\n",
      "   -2.77555756e-17]\n",
      " [  1.66533454e-16   7.32908596e-17   0.00000000e+00   1.00000000e+00\n",
      "    3.60822483e-16]\n",
      " [  1.11022302e-16  -5.41672572e-17  -2.77555756e-17   3.60822483e-16\n",
      "    1.00000000e+00]]\n"
     ]
    }
   ],
   "source": [
    "# document similarity as cosine distance pair\n",
    "dsim_bow = dot(bow_v,lsa_bow_vt)\n",
    "print(dsim_bow)"
   ]
  },
  {
   "cell_type": "code",
   "execution_count": 23,
   "metadata": {
    "collapsed": false
   },
   "outputs": [
    {
     "name": "stdout",
     "output_type": "stream",
     "text": [
      "lsa_bow_sublin_u.shape: (22, 22) \n",
      "\n"
     ]
    }
   ],
   "source": [
    "lsa_bow_sublin_u= readPickle('embeddings/examples_2/lsa/lsa_bow_sublin_u')\n",
    "print(\"lsa_bow_sublin_u.shape: %s \\n\" %str(lsa_bow_sublin_u.shape))\n",
    "#print(lsa_bow_sublin_u)"
   ]
  },
  {
   "cell_type": "code",
   "execution_count": 24,
   "metadata": {
    "collapsed": false
   },
   "outputs": [
    {
     "name": "stdout",
     "output_type": "stream",
     "text": [
      "lsa_bow_sublin_sigma.shape: (7,) \n",
      "\n",
      "[ 3.71761946  2.42512682  2.16184114  1.93473228  1.71953552  1.50538111\n",
      "  1.23494615]\n"
     ]
    }
   ],
   "source": [
    "lsa_bow_sublin_sigma= readPickle('embeddings/examples_2/lsa/lsa_bow_sublin_sigma')\n",
    "print(\"lsa_bow_sublin_sigma.shape: %s \\n\" %str(lsa_bow_sublin_sigma.shape))\n",
    "print(lsa_bow_sublin_sigma)"
   ]
  },
  {
   "cell_type": "code",
   "execution_count": 25,
   "metadata": {
    "collapsed": false
   },
   "outputs": [
    {
     "name": "stdout",
     "output_type": "stream",
     "text": [
      "lsa_bow_sublin_vt.shape: (7, 7) \n",
      "\n",
      "[[-0.45693118 -0.5428162  -0.35212092 -0.26147774 -0.46719828 -0.02697564\n",
      "  -0.29189519]\n",
      " [ 0.17760369 -0.54181256 -0.48093786  0.12372076  0.47444865  0.14779846\n",
      "   0.42584284]\n",
      " [-0.4324054  -0.01675527  0.3500877  -0.09745159 -0.2173718   0.4082388\n",
      "   0.68321095]\n",
      " [ 0.17962248 -0.23246256  0.10612664  0.83060045 -0.46040339  0.01908938\n",
      "   0.01418701]\n",
      " [ 0.26799889  0.40830423 -0.52865997 -0.0668377  -0.31947279  0.61217109\n",
      "  -0.02644431]\n",
      " [-0.09906438  0.32966008 -0.42172989  0.03703535 -0.24766232 -0.64544847\n",
      "   0.47364797]\n",
      " [ 0.67734408 -0.28649961  0.2314042  -0.45944505 -0.36606417 -0.13801244\n",
      "   0.20355565]]\n",
      "\n",
      "lsa_bow_sublin_v.shape: (7, 7) \n",
      "\n",
      "[[-0.45693118  0.17760369 -0.4324054   0.17962248  0.26799889 -0.09906438\n",
      "   0.67734408]\n",
      " [-0.5428162  -0.54181256 -0.01675527 -0.23246256  0.40830423  0.32966008\n",
      "  -0.28649961]\n",
      " [-0.35212092 -0.48093786  0.3500877   0.10612664 -0.52865997 -0.42172989\n",
      "   0.2314042 ]\n",
      " [-0.26147774  0.12372076 -0.09745159  0.83060045 -0.0668377   0.03703535\n",
      "  -0.45944505]\n",
      " [-0.46719828  0.47444865 -0.2173718  -0.46040339 -0.31947279 -0.24766232\n",
      "  -0.36606417]\n",
      " [-0.02697564  0.14779846  0.4082388   0.01908938  0.61217109 -0.64544847\n",
      "  -0.13801244]\n",
      " [-0.29189519  0.42584284  0.68321095  0.01418701 -0.02644431  0.47364797\n",
      "   0.20355565]]\n"
     ]
    }
   ],
   "source": [
    "lsa_bow_sublin_vt= readPickle('embeddings/examples_2/lsa/lsa_bow_sublin_vt')\n",
    "print(\"lsa_bow_sublin_vt.shape: %s \\n\" %str(lsa_bow_sublin_vt.shape))\n",
    "print(lsa_bow_sublin_vt)\n",
    "lsa_bow_sublin_v = np.transpose(lsa_bow_sublin_vt)\n",
    "print(\"\\nlsa_bow_sublin_v.shape: %s \\n\" %str(lsa_bow_sublin_v.shape))\n",
    "print(lsa_bow_sublin_v)"
   ]
  },
  {
   "cell_type": "code",
   "execution_count": 26,
   "metadata": {
    "collapsed": false
   },
   "outputs": [
    {
     "name": "stdout",
     "output_type": "stream",
     "text": [
      "wv_bow_sublin.shape: (22, 7) \n",
      "\n"
     ]
    }
   ],
   "source": [
    "# words similarity w.r.t document context\n",
    "# column is principal component or dimension (context) in which we can measure similarity of words in context (rows of matrix)\n",
    "lsa_bow_sublin_diag_sigma = readPickle('embeddings/examples_2/lsa/lsa_bow_sublin_diag_sigma')\n",
    "wv_bow_sublin = dot(lsa_bow_sublin_u, lsa_bow_sublin_diag_sigma)\n",
    "print(\"wv_bow_sublin.shape: %s \\n\" %str(wv_bow_sublin.shape))\n",
    "#print(wv_bow_sublin)"
   ]
  },
  {
   "cell_type": "code",
   "execution_count": 27,
   "metadata": {
    "collapsed": false
   },
   "outputs": [
    {
     "data": {
      "text/plain": [
       "[array([-0.35212092, -0.48093786,  0.3500877 ,  0.10612664, -0.52865997,\n",
       "        -0.42172989,  0.2314042 ]),\n",
       " array([-0.29189519,  0.42584284,  0.68321095,  0.01418701, -0.02644431,\n",
       "         0.47364797,  0.20355565]),\n",
       " array([-0.89493712, -1.02275042,  0.33333244, -0.12633592, -0.12035574,\n",
       "        -0.09206981, -0.05509541]),\n",
       " array([-0.92412946,  0.65205234, -0.6497772 , -0.28078091, -0.05147391,\n",
       "        -0.3467267 ,  0.31127991]),\n",
       " array([-0.02697564,  0.14779846,  0.4082388 ,  0.01908938,  0.61217109,\n",
       "        -0.64544847, -0.13801244]),\n",
       " array([-0.71840892,  0.30132445, -0.52985699,  1.01022293,  0.20116118,\n",
       "        -0.06202903,  0.21789903]),\n",
       " array([-0.89493712, -1.02275042,  0.33333244, -0.12633592, -0.12035574,\n",
       "        -0.09206981, -0.05509541]),\n",
       " array([ 0.,  0.,  0.,  0.,  0.,  0.,  0.])]"
      ]
     },
     "execution_count": 27,
     "metadata": {},
     "output_type": "execute_result"
    }
   ],
   "source": [
    "'''\n",
    "words: \n",
    "2: 'rats'\n",
    "5: 'mouse',\n",
    "11: 'cats',\n",
    "12: 'dogs',\n",
    "13: 'play',\n",
    "17: 'mice',\n",
    "19: 'eat',\n",
    "21: 'dog',\n",
    "'''\n",
    "  \n",
    "w=[2,5,11,12,13,17,19,21]\n",
    "wv_bow_sublin_ = []\n",
    "for i in range(len(wv_bow_sublin)):\n",
    "    if i in w:\n",
    "        wv_bow_sublin_.append(wv_bow_sublin[i])\n",
    "wv_bow_sublin_"
   ]
  },
  {
   "cell_type": "code",
   "execution_count": 28,
   "metadata": {
    "collapsed": false
   },
   "outputs": [
    {
     "name": "stdout",
     "output_type": "stream",
     "text": [
      "[[-1.69869626  0.43071147 -0.93479178  0.34752141  0.4608336  -0.14912965\n",
      "   0.83648347]\n",
      " [-2.01798409 -1.31396417 -0.03622222 -0.44975282  0.70209363  0.49626406\n",
      "  -0.35381159]\n",
      " [-1.30905157 -1.1663353   0.756834    0.20532664 -0.9090496  -0.63486422\n",
      "   0.28577173]\n",
      " [-0.97207472  0.30003853 -0.21067486  1.6069895  -0.11492981  0.05575232\n",
      "  -0.5673899 ]\n",
      " [-1.73686541  1.15059815 -0.4699233  -0.8907573  -0.54934481 -0.37282617\n",
      "  -0.45206954]\n",
      " [-0.10028517  0.35843     0.88254743  0.03693283  1.05264994 -0.97164594\n",
      "  -0.17043793]\n",
      " [-1.08515522  1.0327229   1.47699353  0.02744808 -0.04547193  0.71302071\n",
      "   0.25138026]]\n"
     ]
    }
   ],
   "source": [
    "# document similarity w.r.t. grouped context (principal components)\n",
    "# column is principal component or dimension (context) in which we can measure similarity of documents in context (rows of matrix)\n",
    "lsa_bow_sublin_sigma_vt = linalg.diagsvd(lsa_bow_sublin_sigma, len(lsa_bow_sublin_sigma), len(lsa_bow_sublin_vt))\n",
    "dv_bow_sublin = dot(lsa_bow_sublin_v, lsa_bow_sublin_sigma_vt)\n",
    "print(dv_bow_sublin)"
   ]
  },
  {
   "cell_type": "code",
   "execution_count": 29,
   "metadata": {
    "collapsed": false
   },
   "outputs": [
    {
     "name": "stdout",
     "output_type": "stream",
     "text": [
      "cat and cats: 1.11022302463e-16\n",
      "pet and pets: 8.32667268469e-17\n"
     ]
    }
   ],
   "source": [
    "# word similarity as cosine distance pair\n",
    "bow_sublin_ut = np.transpose(lsa_bow_sublin_u) \n",
    "wsim_bow_sublin = dot(lsa_bow_sublin_u,bow_sublin_ut)\n",
    "# cat and cats\n",
    "print(\"cat and cats: %s\" %(wsim_bow_sublin[4,9]))\n",
    "# pet and pets\n",
    "print(\"pet and pets: %s\" %(wsim_bow_sublin[6,14]))"
   ]
  },
  {
   "cell_type": "code",
   "execution_count": 30,
   "metadata": {
    "collapsed": false
   },
   "outputs": [
    {
     "name": "stdout",
     "output_type": "stream",
     "text": [
      "[[  1.00000000e+00  -1.38777878e-16   8.32667268e-17   0.00000000e+00\n",
      "   -8.32667268e-17  -6.93889390e-17   5.55111512e-17]\n",
      " [ -1.38777878e-16   1.00000000e+00   5.55111512e-17  -3.88578059e-16\n",
      "   -5.55111512e-17   1.59594560e-16  -2.91433544e-16]\n",
      " [  8.32667268e-17   5.55111512e-17   1.00000000e+00   2.77555756e-16\n",
      "   -4.44089210e-16  -1.24900090e-16  -2.08166817e-16]\n",
      " [  0.00000000e+00  -3.88578059e-16   2.77555756e-16   1.00000000e+00\n",
      "   -6.66133815e-16   9.71445147e-17   2.49800181e-16]\n",
      " [ -8.32667268e-17  -5.55111512e-17  -4.44089210e-16  -6.66133815e-16\n",
      "    1.00000000e+00  -1.31838984e-16   1.24900090e-16]\n",
      " [ -6.93889390e-17   1.59594560e-16  -1.24900090e-16   9.71445147e-17\n",
      "   -1.31838984e-16   1.00000000e+00   3.08780779e-16]\n",
      " [  5.55111512e-17  -2.91433544e-16  -2.08166817e-16   2.49800181e-16\n",
      "    1.24900090e-16   3.08780779e-16   1.00000000e+00]]\n"
     ]
    }
   ],
   "source": [
    "# document similarity as cosine distance pair\n",
    "dsim_bow_sublin = dot(lsa_bow_sublin_v,lsa_bow_sublin_vt)\n",
    "print(dsim_bow_sublin)"
   ]
  },
  {
   "cell_type": "code",
   "execution_count": 31,
   "metadata": {
    "collapsed": false
   },
   "outputs": [
    {
     "name": "stdout",
     "output_type": "stream",
     "text": [
      "lsa_tfidf_u.shape: (26, 26) \n",
      "\n"
     ]
    }
   ],
   "source": [
    "lsa_tfidf_u= readPickle('embeddings/examples_3/lsa/lsa_tfidf_u')\n",
    "print(\"lsa_tfidf_u.shape: %s \\n\" %str(lsa_tfidf_u.shape))\n",
    "#print(lsa_tfidf_u)"
   ]
  },
  {
   "cell_type": "code",
   "execution_count": 32,
   "metadata": {
    "collapsed": false
   },
   "outputs": [
    {
     "name": "stdout",
     "output_type": "stream",
     "text": [
      "lsa_tfidf_sigma.shape: (5,) \n",
      "\n",
      "[ 2.87170563  2.7232046   2.45657176  1.91891303  1.45769741]\n"
     ]
    }
   ],
   "source": [
    "lsa_tfidf_sigma= readPickle('embeddings/examples_3/lsa/lsa_tfidf_sigma')\n",
    "print(\"lsa_tfidf_sigma.shape: %s \\n\" %str(lsa_tfidf_sigma.shape))\n",
    "print(lsa_tfidf_sigma)"
   ]
  },
  {
   "cell_type": "code",
   "execution_count": 33,
   "metadata": {
    "collapsed": false
   },
   "outputs": [
    {
     "name": "stdout",
     "output_type": "stream",
     "text": [
      "lsa_tfidf_vt.shape: (5, 5) \n",
      "\n",
      "[[ -6.50970531e-01   2.22044605e-16  -1.98190949e-01  -3.56469862e-01\n",
      "   -6.40224143e-01]\n",
      " [  7.09117686e-01   2.35922393e-16   1.84107459e-01  -3.00454720e-01\n",
      "   -6.10723760e-01]\n",
      " [ -0.00000000e+00  -1.00000000e+00   1.11022302e-16  -7.77156117e-16\n",
      "    1.11022302e-16]\n",
      " [ -9.76078840e-02  -5.82867088e-16   2.57950719e-01   8.47925183e-01\n",
      "   -4.52721782e-01]\n",
      " [  2.52709667e-01  -2.22044605e-16  -9.27516155e-01   2.52347147e-01\n",
      "   -1.10329161e-01]]\n",
      "\n",
      "lsa_tfidf_v.shape: (5, 5) \n",
      "\n",
      "[[ -6.50970531e-01   7.09117686e-01  -0.00000000e+00  -9.76078840e-02\n",
      "    2.52709667e-01]\n",
      " [  2.22044605e-16   2.35922393e-16  -1.00000000e+00  -5.82867088e-16\n",
      "   -2.22044605e-16]\n",
      " [ -1.98190949e-01   1.84107459e-01   1.11022302e-16   2.57950719e-01\n",
      "   -9.27516155e-01]\n",
      " [ -3.56469862e-01  -3.00454720e-01  -7.77156117e-16   8.47925183e-01\n",
      "    2.52347147e-01]\n",
      " [ -6.40224143e-01  -6.10723760e-01   1.11022302e-16  -4.52721782e-01\n",
      "   -1.10329161e-01]]\n"
     ]
    }
   ],
   "source": [
    "lsa_tfidf_vt= readPickle('embeddings/examples_3/lsa/lsa_tfidf_vt')\n",
    "print(\"lsa_tfidf_vt.shape: %s \\n\" %str(lsa_tfidf_vt.shape))\n",
    "print(lsa_tfidf_vt)\n",
    "lsa_tfidf_v = np.transpose(lsa_tfidf_vt)\n",
    "print(\"\\nlsa_tfidf_v.shape: %s \\n\" %str(lsa_tfidf_v.shape))\n",
    "print(lsa_tfidf_v)"
   ]
  },
  {
   "cell_type": "code",
   "execution_count": 34,
   "metadata": {
    "collapsed": false
   },
   "outputs": [
    {
     "name": "stdout",
     "output_type": "stream",
     "text": [
      "wv_tfidf.shape: (26, 5) \n",
      "\n",
      "[[  1.75970182e-17   1.42257986e-17   5.64785223e-32  -5.86966218e-17\n",
      "   -1.72604324e-17]\n",
      " [ -3.91622171e-01  -3.30083248e-01  -9.51479423e-16   9.31541026e-01\n",
      "    2.77231677e-01]\n",
      " [ -3.91622171e-01  -3.30083248e-01  -9.51479423e-16   9.31541026e-01\n",
      "    2.77231677e-01]\n",
      " [ -6.90855640e-01  -6.31580795e-01  -5.62343992e-16   2.73934123e-01\n",
      "    9.84393668e-02]\n",
      " [  3.87311840e-16   4.33155244e-16  -1.09861229e+00  -5.63546648e-16\n",
      "   -2.90191907e-16]\n",
      " [  2.98845895e-16   3.48765652e-16  -1.09861229e+00  -6.26103583e-16\n",
      "   -3.05437151e-16]\n",
      " [ -2.17735012e-01   2.02262717e-01   3.76590784e-16   2.83387830e-01\n",
      "   -1.01898065e+00]\n",
      " [  2.98845895e-16   3.48765652e-16  -1.09861229e+00  -6.26103583e-16\n",
      "   -3.05437151e-16]\n",
      " [ -5.88593885e-01   6.19136491e-01   2.02946318e-16   1.11141184e-01\n",
      "   -4.67740214e-01]\n",
      " [ -7.03358111e-01  -6.70948628e-01   6.01852824e-17  -4.97365713e-01\n",
      "   -1.21208972e-01]\n",
      " [ -7.15164225e-01   7.79045404e-01  -5.49284808e-17  -1.07233221e-01\n",
      "    2.77629946e-01]\n",
      " [ -9.27659031e-01  -3.29555777e-01  -3.27010019e-16  -6.28982879e-02\n",
      "    1.15313666e-01]\n",
      " [ -7.15164225e-01   7.79045404e-01  -5.49284808e-17  -1.07233221e-01\n",
      "    2.77629946e-01]\n",
      " [ -6.90855640e-01  -6.31580795e-01  -5.62343992e-16   2.73934123e-01\n",
      "    9.84393668e-02]\n",
      " [ -7.15164225e-01   7.79045404e-01  -5.49284808e-17  -1.07233221e-01\n",
      "    2.77629946e-01]\n",
      " [ -7.03358111e-01  -6.70948628e-01   6.01852824e-17  -4.97365713e-01\n",
      "   -1.21208972e-01]\n",
      " [ -7.03358111e-01  -6.70948628e-01   6.01852824e-17  -4.97365713e-01\n",
      "   -1.21208972e-01]\n",
      " [ -3.84461577e-01  -8.06457759e-02  -3.62714347e-16   7.66534764e-01\n",
      "   -4.67991494e-01]\n",
      " [ -6.90855640e-01  -6.31580795e-01  -5.62343992e-16   2.73934123e-01\n",
      "    9.84393668e-02]\n",
      " [ -1.03981227e+00   1.11065942e+00   1.68290305e-16   4.34845546e-02\n",
      "   -2.92575221e-01]\n",
      " [  2.98845895e-16   3.48765652e-16  -1.09861229e+00  -6.26103583e-16\n",
      "   -3.05437151e-16]\n",
      " [  2.98845895e-16   3.48765652e-16  -1.09861229e+00  -6.26103583e-16\n",
      "   -3.05437151e-16]\n",
      " [ -7.15164225e-01   7.79045404e-01  -5.49284808e-17  -1.07233221e-01\n",
      "    2.77629946e-01]\n",
      " [ -7.03358111e-01  -6.70948628e-01   6.01852824e-17  -4.97365713e-01\n",
      "   -1.21208972e-01]\n",
      " [  0.00000000e+00   0.00000000e+00   0.00000000e+00   0.00000000e+00\n",
      "    0.00000000e+00]\n",
      " [  0.00000000e+00   0.00000000e+00   0.00000000e+00   0.00000000e+00\n",
      "    0.00000000e+00]]\n"
     ]
    }
   ],
   "source": [
    "# words similarity w.r.t document context\n",
    "# column is principal component or dimension (context) in which we can measure similarity of words in context (rows of matrix)\n",
    "lsa_tfidf_diag_sigma = readPickle('embeddings/examples_3/lsa/lsa_tfidf_diag_sigma')\n",
    "wv_tfidf = dot(lsa_tfidf_u, lsa_tfidf_diag_sigma)\n",
    "print(\"wv_tfidf.shape: %s \\n\" %str(wv_tfidf.shape))\n",
    "print(wv_tfidf)"
   ]
  },
  {
   "cell_type": "code",
   "execution_count": 35,
   "metadata": {
    "collapsed": false
   },
   "outputs": [
    {
     "data": {
      "text/plain": [
       "[array([ -3.91622171e-01,  -3.30083248e-01,  -9.51479423e-16,\n",
       "          9.31541026e-01,   2.77231677e-01]),\n",
       " array([  2.98845895e-16,   3.48765652e-16,  -1.09861229e+00,\n",
       "         -6.26103583e-16,  -3.05437151e-16]),\n",
       " array([ -9.27659031e-01,  -3.29555777e-01,  -3.27010019e-16,\n",
       "         -6.28982879e-02,   1.15313666e-01]),\n",
       " array([ -7.15164225e-01,   7.79045404e-01,  -5.49284808e-17,\n",
       "         -1.07233221e-01,   2.77629946e-01]),\n",
       " array([ -6.90855640e-01,  -6.31580795e-01,  -5.62343992e-16,\n",
       "          2.73934123e-01,   9.84393668e-02]),\n",
       " array([ -3.84461577e-01,  -8.06457759e-02,  -3.62714347e-16,\n",
       "          7.66534764e-01,  -4.67991494e-01]),\n",
       " array([ -1.03981227e+00,   1.11065942e+00,   1.68290305e-16,\n",
       "          4.34845546e-02,  -2.92575221e-01]),\n",
       " array([  2.98845895e-16,   3.48765652e-16,  -1.09861229e+00,\n",
       "         -6.26103583e-16,  -3.05437151e-16])]"
      ]
     },
     "execution_count": 35,
     "metadata": {},
     "output_type": "execute_result"
    }
   ],
   "source": [
    "'''\n",
    "words: \n",
    "2: 'rats'\n",
    "5: 'mouse',\n",
    "11: 'cats',\n",
    "12: 'dogs',\n",
    "13: 'play',\n",
    "17: 'mice',\n",
    "19: 'eat',\n",
    "21: 'dog',\n",
    "'''\n",
    "  \n",
    "w=[2,5,11,12,13,17,19,21]\n",
    "wv_tfidf_ = []\n",
    "for i in range(len(wv_tfidf)):\n",
    "    if i in w:\n",
    "        wv_tfidf_.append(wv_tfidf[i])\n",
    "wv_tfidf_"
   ]
  },
  {
   "cell_type": "code",
   "execution_count": 36,
   "metadata": {
    "collapsed": false
   },
   "outputs": [
    {
     "name": "stdout",
     "output_type": "stream",
     "text": [
      "[[ -1.86939574e+00   1.93107255e+00   0.00000000e+00  -1.87301040e-01\n",
      "    3.68374228e-01]\n",
      " [  6.37646743e-16   6.42464946e-16  -2.45657176e+00  -1.11847125e-15\n",
      "   -3.23673846e-16]\n",
      " [ -5.69146063e-01   5.01362281e-01   2.72734253e-16   4.94984996e-01\n",
      "   -1.35203790e+00]\n",
      " [ -1.02367651e+00  -8.18199678e-01  -1.90913977e-15   1.62709468e+00\n",
      "    3.67845783e-01]\n",
      " [ -1.83853528e+00  -1.66312575e+00   2.72734253e-16  -8.68733726e-01\n",
      "   -1.60826532e-01]]\n"
     ]
    }
   ],
   "source": [
    "# document similarity w.r.t. grouped context (principal components)\n",
    "# column is principal component or dimension (context) in which we can measure similarity of documents in context (rows of matrix)\n",
    "lsa_tfidf_sigma_vt = linalg.diagsvd(lsa_tfidf_sigma, len(lsa_tfidf_sigma), len(lsa_tfidf_vt))\n",
    "dv_tfidf = dot(lsa_tfidf_v, lsa_tfidf_sigma_vt)\n",
    "print(dv_tfidf)"
   ]
  },
  {
   "cell_type": "code",
   "execution_count": 37,
   "metadata": {
    "collapsed": false
   },
   "outputs": [
    {
     "name": "stdout",
     "output_type": "stream",
     "text": [
      "cat and cats: 4.16333634234e-17\n",
      "pet and pets: 2.42861286637e-17\n"
     ]
    }
   ],
   "source": [
    "# word similarity as cosine distance pair\n",
    "lsa_tfidf_ut = np.transpose(lsa_tfidf_u) \n",
    "wsim_tfidf = dot(lsa_tfidf_u,lsa_tfidf_ut)\n",
    "# cat and cats\n",
    "print(\"cat and cats: %s\" %(wsim_tfidf[4,9]))\n",
    "# pet and pets\n",
    "print(\"pet and pets: %s\" %(wsim_tfidf[6,14]))"
   ]
  },
  {
   "cell_type": "code",
   "execution_count": 38,
   "metadata": {
    "collapsed": false
   },
   "outputs": [
    {
     "name": "stdout",
     "output_type": "stream",
     "text": [
      "[ -2.17735012e-01   2.02262717e-01   3.76590784e-16   2.83387830e-01\n",
      "  -1.01898065e+00] \n",
      "\n",
      "[ -7.15164225e-01   7.79045404e-01  -5.49284808e-17  -1.07233221e-01\n",
      "   2.77629946e-01] \n",
      "\n"
     ]
    },
    {
     "data": {
      "text/plain": [
       "4.599295664821215e-17"
      ]
     },
     "execution_count": 38,
     "metadata": {},
     "output_type": "execute_result"
    }
   ],
   "source": [
    "print(\"%s \\n\"%wv_tfidf[6])\n",
    "print(\"%s \\n\"%wv_tfidf[14])\n",
    "sim = float(dot(wv_tfidf[6],wv_tfidf[14]) / (norm(wv_tfidf[6]) * norm(wv_tfidf[14])))\n",
    "sim"
   ]
  },
  {
   "cell_type": "code",
   "execution_count": 39,
   "metadata": {
    "collapsed": false
   },
   "outputs": [
    {
     "name": "stdout",
     "output_type": "stream",
     "text": [
      "[[  1.00000000e+00   2.35318519e-17  -5.55111512e-17   1.38777878e-17\n",
      "    1.17961196e-16]\n",
      " [  2.35318519e-17   1.00000000e+00  -5.59954874e-17   7.68599063e-17\n",
      "   -1.08889408e-16]\n",
      " [ -5.55111512e-17  -5.59954874e-17   1.00000000e+00   2.77555756e-17\n",
      "    1.38777878e-16]\n",
      " [  1.38777878e-17   7.68599063e-17   2.77555756e-17   1.00000000e+00\n",
      "   -2.49800181e-16]\n",
      " [  1.17961196e-16  -1.08889408e-16   1.38777878e-16  -2.49800181e-16\n",
      "    1.00000000e+00]]\n"
     ]
    }
   ],
   "source": [
    "# document similarity as cosine distance pair\n",
    "dsim_tfidf = dot(lsa_tfidf_v,lsa_tfidf_vt)\n",
    "print(dsim_tfidf)"
   ]
  },
  {
   "cell_type": "code",
   "execution_count": 40,
   "metadata": {
    "collapsed": false
   },
   "outputs": [
    {
     "data": {
      "text/plain": [
       "(26, 5)"
      ]
     },
     "execution_count": 40,
     "metadata": {},
     "output_type": "execute_result"
    }
   ],
   "source": [
    "w2v_1 = readPickle('embeddings/examples_3/w2v/w2v_embed1')\n",
    "w2v_1.shape"
   ]
  },
  {
   "cell_type": "code",
   "execution_count": 41,
   "metadata": {
    "collapsed": false
   },
   "outputs": [
    {
     "data": {
      "text/plain": [
       "(26, 5)"
      ]
     },
     "execution_count": 41,
     "metadata": {},
     "output_type": "execute_result"
    }
   ],
   "source": [
    "w2v_2 = readPickle('embeddings/examples_3/w2v/w2v_embed2')\n",
    "w2v_2.shape"
   ]
  },
  {
   "cell_type": "code",
   "execution_count": 42,
   "metadata": {
    "collapsed": false
   },
   "outputs": [
    {
     "data": {
      "text/plain": [
       "(5, 5)"
      ]
     },
     "execution_count": 42,
     "metadata": {},
     "output_type": "execute_result"
    }
   ],
   "source": [
    "avg_embed1 = readPickle('embeddings/examples_3/w2v/avg_embed1')\n",
    "avg_embed1.shape"
   ]
  },
  {
   "cell_type": "code",
   "execution_count": 43,
   "metadata": {
    "collapsed": false
   },
   "outputs": [
    {
     "data": {
      "text/plain": [
       "(5, 5)"
      ]
     },
     "execution_count": 43,
     "metadata": {},
     "output_type": "execute_result"
    }
   ],
   "source": [
    "avg_embed2 = readPickle('embeddings/examples_3/w2v/avg_embed2')\n",
    "avg_embed2.shape"
   ]
  },
  {
   "cell_type": "code",
   "execution_count": null,
   "metadata": {
    "collapsed": true
   },
   "outputs": [],
   "source": []
  }
 ],
 "metadata": {
  "kernelspec": {
   "display_name": "Python 2",
   "language": "python",
   "name": "python2"
  },
  "language_info": {
   "codemirror_mode": {
    "name": "ipython",
    "version": 2
   },
   "file_extension": ".py",
   "mimetype": "text/x-python",
   "name": "python",
   "nbconvert_exporter": "python",
   "pygments_lexer": "ipython2",
   "version": "2.7.13"
  }
 },
 "nbformat": 4,
 "nbformat_minor": 2
}
