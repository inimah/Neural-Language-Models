{
 "cells": [
  {
   "cell_type": "code",
   "execution_count": null,
   "metadata": {
    "collapsed": false
   },
   "outputs": [],
   "source": [
    "import numpy as np\n",
    "from math import *\n",
    "from scipy import linalg,dot\n",
    "from numpy.linalg import norm\n",
    "#from IPython.core.display import display, HTML\n",
    "#display(HTML(\"<style>.container { width:100% !important; }</style>\"))"
   ]
  },
  {
   "cell_type": "code",
   "execution_count": null,
   "metadata": {
    "collapsed": true
   },
   "outputs": [],
   "source": [
    "from scripts.text_preprocessing import *"
   ]
  },
  {
   "cell_type": "code",
   "execution_count": null,
   "metadata": {
    "collapsed": true
   },
   "outputs": [],
   "source": [
    "from scripts.lsa.vector_space import VectorSpace\n",
    "from scripts.lsa.tfidf import TFIDF\n",
    "from scripts.lsa.lsa import LSA"
   ]
  },
  {
   "cell_type": "code",
   "execution_count": null,
   "metadata": {
    "collapsed": false
   },
   "outputs": [],
   "source": [
    "'''\n",
    "Original documents:\n",
    "[\"Dogs eat the same things that cats eat\", \n",
    "\"No dog is a mouse\", \"Mice eat little things\", \n",
    "\"Cats often play with rats and mice\", \n",
    "\"Cats often play, but not with other cats\"]\n",
    "'''\n",
    "tokenized_docs = readPickle('embeddings/examples_3/lsa/tokenized_docs')"
   ]
  },
  {
   "cell_type": "code",
   "execution_count": null,
   "metadata": {
    "collapsed": false
   },
   "outputs": [],
   "source": [
    "tokenized_docs"
   ]
  },
  {
   "cell_type": "code",
   "execution_count": null,
   "metadata": {
    "collapsed": true
   },
   "outputs": [],
   "source": [
    "vocab = readPickle('embeddings/examples_3/lsa/vocab')"
   ]
  },
  {
   "cell_type": "code",
   "execution_count": null,
   "metadata": {
    "collapsed": false
   },
   "outputs": [],
   "source": [
    "vocab"
   ]
  },
  {
   "cell_type": "code",
   "execution_count": null,
   "metadata": {
    "collapsed": true
   },
   "outputs": [],
   "source": [
    "td_bow = readPickle('embeddings/examples_3/lsa/td_bow')"
   ]
  },
  {
   "cell_type": "code",
   "execution_count": null,
   "metadata": {
    "collapsed": false
   },
   "outputs": [],
   "source": [
    "print(td_bow)"
   ]
  },
  {
   "cell_type": "code",
   "execution_count": null,
   "metadata": {
    "collapsed": true
   },
   "outputs": [],
   "source": [
    "td_bow_sublin = readPickle('embeddings/examples_3/lsa/td_bow_sublin')"
   ]
  },
  {
   "cell_type": "code",
   "execution_count": null,
   "metadata": {
    "collapsed": false
   },
   "outputs": [],
   "source": [
    "print(td_bow_sublin)"
   ]
  },
  {
   "cell_type": "code",
   "execution_count": null,
   "metadata": {
    "collapsed": true
   },
   "outputs": [],
   "source": [
    "td_tfidf = readPickle('embeddings/examples_3/lsa/td_tfidf')"
   ]
  },
  {
   "cell_type": "code",
   "execution_count": null,
   "metadata": {
    "collapsed": false
   },
   "outputs": [],
   "source": [
    "print(td_tfidf)"
   ]
  },
  {
   "cell_type": "code",
   "execution_count": null,
   "metadata": {
    "collapsed": false
   },
   "outputs": [],
   "source": [
    "lsa_bow_u= readPickle('embeddings/examples_3/lsa/lsa_bow_u')\n",
    "print(\"lsa_bow_u.shape: %s \\n\" %str(lsa_bow_u.shape))\n",
    "#print(lsa_bow_u)"
   ]
  },
  {
   "cell_type": "code",
   "execution_count": null,
   "metadata": {
    "collapsed": false
   },
   "outputs": [],
   "source": [
    "lsa_bow_sigma= readPickle('embeddings/examples_3/lsa/lsa_bow_sigma')\n",
    "print(\"lsa_bow_sigma.shape: %s \\n\" %str(lsa_bow_sigma.shape))\n",
    "print(lsa_bow_sigma)"
   ]
  },
  {
   "cell_type": "code",
   "execution_count": null,
   "metadata": {
    "collapsed": false,
    "scrolled": true
   },
   "outputs": [],
   "source": [
    "lsa_bow_vt= readPickle('embeddings/examples_3/lsa/lsa_bow_vt')\n",
    "bow_v = np.transpose(lsa_bow_vt)\n",
    "print(\"bow_v.shape: %s \\n\" %str(bow_v.shape))\n",
    "print(bow_v)"
   ]
  },
  {
   "cell_type": "code",
   "execution_count": null,
   "metadata": {
    "collapsed": false
   },
   "outputs": [],
   "source": [
    "svd_bow= readPickle('embeddings/examples_3/lsa/svd_bow')\n",
    "svd_bow_t = np.transpose(svd_bow)\n",
    "print(\"svd_bow_t.shape: %s \\n\" %str(svd_bow_t.shape))\n",
    "#print(svd_bow_t)"
   ]
  },
  {
   "cell_type": "code",
   "execution_count": null,
   "metadata": {
    "collapsed": false,
    "scrolled": true
   },
   "outputs": [],
   "source": [
    "# words similarity w.r.t document context\n",
    "# column is principal component or dimension (context) in which we can measure similarity of words in context (rows of matrix)\n",
    "lsa_bow_diag_sigma = readPickle('embeddings/examples_3/lsa/lsa_bow_diag_sigma')\n",
    "wv_bow = dot(lsa_bow_u, lsa_bow_diag_sigma)\n",
    "print(\"wv_bow.shape: %s \\n\" %str(wv_bow.shape))\n",
    "#print(wv_bow)"
   ]
  },
  {
   "cell_type": "code",
   "execution_count": null,
   "metadata": {
    "collapsed": false
   },
   "outputs": [],
   "source": [
    "'''\n",
    "words: \n",
    "2: 'rats'\n",
    "5: 'mouse',\n",
    "11: 'cats',\n",
    "12: 'dogs',\n",
    "13: 'play',\n",
    "17: 'mice',\n",
    "19: 'eat',\n",
    "21: 'dog',\n",
    "'''\n",
    "  \n",
    "w=[2,5,11,12,13,17,19,21]\n",
    "wv_bow_ = []\n",
    "for i in range(len(wv_bow)):\n",
    "    if i in w:\n",
    "        wv_bow_.append(wv_bow[i])\n",
    "wv_bow_"
   ]
  },
  {
   "cell_type": "code",
   "execution_count": null,
   "metadata": {
    "collapsed": false
   },
   "outputs": [],
   "source": [
    "# document similarity w.r.t. grouped context (principal components)\n",
    "# column is principal component or dimension (context) in which we can measure similarity of documents in context (rows of matrix)\n",
    "lsa_bow_sigma_vt = linalg.diagsvd(lsa_bow_sigma, len(lsa_bow_sigma), len(lsa_bow_vt))\n",
    "dv_bow = dot(bow_v, lsa_bow_sigma_vt)\n",
    "print(dv_bow)"
   ]
  },
  {
   "cell_type": "code",
   "execution_count": null,
   "metadata": {
    "collapsed": false
   },
   "outputs": [],
   "source": [
    "# word similarity as cosine distance pair\n",
    "bow_ut = np.transpose(lsa_bow_u) \n",
    "wsim_bow = dot(lsa_bow_u,bow_ut)\n",
    "# cat and cats\n",
    "print(\"cat and cats: %s\" %(wsim_bow[4,9]))\n",
    "# pet and pets\n",
    "print(\"pet and pets: %s\" %(wsim_bow[6,14]))\n"
   ]
  },
  {
   "cell_type": "code",
   "execution_count": null,
   "metadata": {
    "collapsed": false
   },
   "outputs": [],
   "source": [
    "# document similarity as cosine distance pair\n",
    "dsim_bow = dot(bow_v,lsa_bow_vt)\n",
    "print(dsim_bow)"
   ]
  },
  {
   "cell_type": "code",
   "execution_count": null,
   "metadata": {
    "collapsed": false
   },
   "outputs": [],
   "source": [
    "lsa_bow_sublin_u= readPickle('embeddings/examples_2/lsa/lsa_bow_sublin_u')\n",
    "print(\"lsa_bow_sublin_u.shape: %s \\n\" %str(lsa_bow_sublin_u.shape))\n",
    "#print(lsa_bow_sublin_u)"
   ]
  },
  {
   "cell_type": "code",
   "execution_count": null,
   "metadata": {
    "collapsed": false
   },
   "outputs": [],
   "source": [
    "lsa_bow_sublin_sigma= readPickle('embeddings/examples_2/lsa/lsa_bow_sublin_sigma')\n",
    "print(\"lsa_bow_sublin_sigma.shape: %s \\n\" %str(lsa_bow_sublin_sigma.shape))\n",
    "print(lsa_bow_sublin_sigma)"
   ]
  },
  {
   "cell_type": "code",
   "execution_count": null,
   "metadata": {
    "collapsed": false
   },
   "outputs": [],
   "source": [
    "lsa_bow_sublin_vt= readPickle('embeddings/examples_2/lsa/lsa_bow_sublin_vt')\n",
    "print(\"lsa_bow_sublin_vt.shape: %s \\n\" %str(lsa_bow_sublin_vt.shape))\n",
    "print(lsa_bow_sublin_vt)\n",
    "lsa_bow_sublin_v = np.transpose(lsa_bow_sublin_vt)\n",
    "print(\"\\nlsa_bow_sublin_v.shape: %s \\n\" %str(lsa_bow_sublin_v.shape))\n",
    "print(lsa_bow_sublin_v)"
   ]
  },
  {
   "cell_type": "code",
   "execution_count": null,
   "metadata": {
    "collapsed": false
   },
   "outputs": [],
   "source": [
    "# words similarity w.r.t document context\n",
    "# column is principal component or dimension (context) in which we can measure similarity of words in context (rows of matrix)\n",
    "lsa_bow_sublin_diag_sigma = readPickle('embeddings/examples_2/lsa/lsa_bow_sublin_diag_sigma')\n",
    "wv_bow_sublin = dot(lsa_bow_sublin_u, lsa_bow_sublin_diag_sigma)\n",
    "print(\"wv_bow_sublin.shape: %s \\n\" %str(wv_bow_sublin.shape))\n",
    "#print(wv_bow_sublin)"
   ]
  },
  {
   "cell_type": "code",
   "execution_count": null,
   "metadata": {
    "collapsed": false
   },
   "outputs": [],
   "source": [
    "'''\n",
    "words: \n",
    "2: 'rats'\n",
    "5: 'mouse',\n",
    "11: 'cats',\n",
    "12: 'dogs',\n",
    "13: 'play',\n",
    "17: 'mice',\n",
    "19: 'eat',\n",
    "21: 'dog',\n",
    "'''\n",
    "  \n",
    "w=[2,5,11,12,13,17,19,21]\n",
    "wv_bow_sublin_ = []\n",
    "for i in range(len(wv_bow_sublin)):\n",
    "    if i in w:\n",
    "        wv_bow_sublin_.append(wv_bow_sublin[i])\n",
    "wv_bow_sublin_"
   ]
  },
  {
   "cell_type": "code",
   "execution_count": null,
   "metadata": {
    "collapsed": false
   },
   "outputs": [],
   "source": [
    "# document similarity w.r.t. grouped context (principal components)\n",
    "# column is principal component or dimension (context) in which we can measure similarity of documents in context (rows of matrix)\n",
    "lsa_bow_sublin_sigma_vt = linalg.diagsvd(lsa_bow_sublin_sigma, len(lsa_bow_sublin_sigma), len(lsa_bow_sublin_vt))\n",
    "dv_bow_sublin = dot(lsa_bow_sublin_v, lsa_bow_sublin_sigma_vt)\n",
    "print(dv_bow_sublin)"
   ]
  },
  {
   "cell_type": "code",
   "execution_count": null,
   "metadata": {
    "collapsed": false
   },
   "outputs": [],
   "source": [
    "# word similarity as cosine distance pair\n",
    "bow_sublin_ut = np.transpose(lsa_bow_sublin_u) \n",
    "wsim_bow_sublin = dot(lsa_bow_sublin_u,bow_sublin_ut)\n",
    "# cat and cats\n",
    "print(\"cat and cats: %s\" %(wsim_bow_sublin[4,9]))\n",
    "# pet and pets\n",
    "print(\"pet and pets: %s\" %(wsim_bow_sublin[6,14]))"
   ]
  },
  {
   "cell_type": "code",
   "execution_count": null,
   "metadata": {
    "collapsed": false
   },
   "outputs": [],
   "source": [
    "# document similarity as cosine distance pair\n",
    "dsim_bow_sublin = dot(lsa_bow_sublin_v,lsa_bow_sublin_vt)\n",
    "print(dsim_bow_sublin)"
   ]
  },
  {
   "cell_type": "code",
   "execution_count": null,
   "metadata": {
    "collapsed": false
   },
   "outputs": [],
   "source": [
    "lsa_tfidf_u= readPickle('embeddings/examples_3/lsa/lsa_tfidf_u')\n",
    "print(\"lsa_tfidf_u.shape: %s \\n\" %str(lsa_tfidf_u.shape))\n",
    "#print(lsa_tfidf_u)"
   ]
  },
  {
   "cell_type": "code",
   "execution_count": null,
   "metadata": {
    "collapsed": false
   },
   "outputs": [],
   "source": [
    "lsa_tfidf_sigma= readPickle('embeddings/examples_3/lsa/lsa_tfidf_sigma')\n",
    "print(\"lsa_tfidf_sigma.shape: %s \\n\" %str(lsa_tfidf_sigma.shape))\n",
    "print(lsa_tfidf_sigma)"
   ]
  },
  {
   "cell_type": "code",
   "execution_count": null,
   "metadata": {
    "collapsed": false
   },
   "outputs": [],
   "source": [
    "lsa_tfidf_vt= readPickle('embeddings/examples_3/lsa/lsa_tfidf_vt')\n",
    "print(\"lsa_tfidf_vt.shape: %s \\n\" %str(lsa_tfidf_vt.shape))\n",
    "print(lsa_tfidf_vt)\n",
    "lsa_tfidf_v = np.transpose(lsa_tfidf_vt)\n",
    "print(\"\\nlsa_tfidf_v.shape: %s \\n\" %str(lsa_tfidf_v.shape))\n",
    "print(lsa_tfidf_v)"
   ]
  },
  {
   "cell_type": "code",
   "execution_count": null,
   "metadata": {
    "collapsed": false
   },
   "outputs": [],
   "source": [
    "# words similarity w.r.t document context\n",
    "# column is principal component or dimension (context) in which we can measure similarity of words in context (rows of matrix)\n",
    "lsa_tfidf_diag_sigma = readPickle('embeddings/examples_3/lsa/lsa_tfidf_diag_sigma')\n",
    "wv_tfidf = dot(lsa_tfidf_u, lsa_tfidf_diag_sigma)\n",
    "print(\"wv_tfidf.shape: %s \\n\" %str(wv_tfidf.shape))\n",
    "print(wv_tfidf)"
   ]
  },
  {
   "cell_type": "code",
   "execution_count": null,
   "metadata": {
    "collapsed": false
   },
   "outputs": [],
   "source": [
    "'''\n",
    "words: \n",
    "2: 'rats'\n",
    "5: 'mouse',\n",
    "11: 'cats',\n",
    "12: 'dogs',\n",
    "13: 'play',\n",
    "17: 'mice',\n",
    "19: 'eat',\n",
    "21: 'dog',\n",
    "'''\n",
    "  \n",
    "w=[2,5,11,12,13,17,19,21]\n",
    "wv_tfidf_ = []\n",
    "for i in range(len(wv_tfidf)):\n",
    "    if i in w:\n",
    "        wv_tfidf_.append(wv_tfidf[i])\n",
    "wv_tfidf_"
   ]
  },
  {
   "cell_type": "code",
   "execution_count": null,
   "metadata": {
    "collapsed": false
   },
   "outputs": [],
   "source": [
    "# document similarity w.r.t. grouped context (principal components)\n",
    "# column is principal component or dimension (context) in which we can measure similarity of documents in context (rows of matrix)\n",
    "lsa_tfidf_sigma_vt = linalg.diagsvd(lsa_tfidf_sigma, len(lsa_tfidf_sigma), len(lsa_tfidf_vt))\n",
    "dv_tfidf = dot(lsa_tfidf_v, lsa_tfidf_sigma_vt)\n",
    "print(dv_tfidf)"
   ]
  },
  {
   "cell_type": "code",
   "execution_count": null,
   "metadata": {
    "collapsed": false
   },
   "outputs": [],
   "source": [
    "# word similarity as cosine distance pair\n",
    "lsa_tfidf_ut = np.transpose(lsa_tfidf_u) \n",
    "wsim_tfidf = dot(lsa_tfidf_u,lsa_tfidf_ut)\n",
    "# cat and cats\n",
    "print(\"cat and cats: %s\" %(wsim_tfidf[4,9]))\n",
    "# pet and pets\n",
    "print(\"pet and pets: %s\" %(wsim_tfidf[6,14]))"
   ]
  },
  {
   "cell_type": "code",
   "execution_count": null,
   "metadata": {
    "collapsed": false
   },
   "outputs": [],
   "source": [
    "print(\"%s \\n\"%wv_tfidf[6])\n",
    "print(\"%s \\n\"%wv_tfidf[14])\n",
    "sim = float(dot(wv_tfidf[6],wv_tfidf[14]) / (norm(wv_tfidf[6]) * norm(wv_tfidf[14])))\n",
    "sim"
   ]
  },
  {
   "cell_type": "code",
   "execution_count": null,
   "metadata": {
    "collapsed": false
   },
   "outputs": [],
   "source": [
    "# document similarity as cosine distance pair\n",
    "dsim_tfidf = dot(lsa_tfidf_v,lsa_tfidf_vt)\n",
    "print(dsim_tfidf)"
   ]
  },
  {
   "cell_type": "code",
   "execution_count": null,
   "metadata": {
    "collapsed": false
   },
   "outputs": [],
   "source": [
    "w2v_1 = readPickle('embeddings/examples_3/w2v/w2v_embed1')\n",
    "w2v_1.shape"
   ]
  },
  {
   "cell_type": "code",
   "execution_count": null,
   "metadata": {
    "collapsed": false
   },
   "outputs": [],
   "source": [
    "w2v_2 = readPickle('embeddings/examples_3/w2v/w2v_embed2')\n",
    "w2v_2.shape"
   ]
  },
  {
   "cell_type": "code",
   "execution_count": null,
   "metadata": {
    "collapsed": false
   },
   "outputs": [],
   "source": [
    "avg_embed1 = readPickle('embeddings/examples_3/w2v/avg_embed1')\n",
    "avg_embed1.shape"
   ]
  },
  {
   "cell_type": "code",
   "execution_count": null,
   "metadata": {
    "collapsed": false
   },
   "outputs": [],
   "source": [
    "avg_embed2 = readPickle('embeddings/examples_3/w2v/avg_embed2')\n",
    "avg_embed2.shape"
   ]
  },
  {
   "cell_type": "code",
   "execution_count": null,
   "metadata": {
    "collapsed": true
   },
   "outputs": [],
   "source": []
  }
 ],
 "metadata": {
  "kernelspec": {
   "display_name": "Python 2",
   "language": "python",
   "name": "python2"
  },
  "language_info": {
   "codemirror_mode": {
    "name": "ipython",
    "version": 2
   },
   "file_extension": ".py",
   "mimetype": "text/x-python",
   "name": "python",
   "nbconvert_exporter": "python",
   "pygments_lexer": "ipython2",
   "version": "2.7.13"
  }
 },
 "nbformat": 4,
 "nbformat_minor": 2
}
